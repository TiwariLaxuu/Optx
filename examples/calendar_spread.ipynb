{
 "cells": [
  {
   "cell_type": "markdown",
   "metadata": {},
   "source": [
    "# Calendar Spread\n",
    "\n",
    "To implement this [strategy](https://www.investopedia.com/terms/c/calendarspread.asp), the trader sells a short-term option (either a call or a put) and buys a long-term option of same type, both options with the same strike. As such, it is a debit spread, the maximum loss being the amount paid for the strategy.\n",
    "\n",
    "To begin with our calculations and analysis, the necessary resources, such as the *Strategy* class from the *Strategy* module of the *Optx* package, must be imported."
   ]
  },
  {
   "cell_type": "code",
   "execution_count": 1,
   "metadata": {},
   "outputs": [],
   "source": [
    "from Optx.Strategy import Strategy\n",
    "from time import time\n",
    "from numpy import zeros\n",
    "import matplotlib.pyplot as plt\n",
    "%matplotlib inline"
   ]
  },
  {
   "cell_type": "markdown",
   "metadata": {},
   "source": [
    "A *Strategy* object must then be created."
   ]
  },
  {
   "cell_type": "code",
   "execution_count": 2,
   "metadata": {},
   "outputs": [],
   "source": [
    "st=Strategy()"
   ]
  },
  {
   "cell_type": "markdown",
   "metadata": {},
   "source": [
    "The data used in the calculations are passed to the *getdata* method of the newly created *Strategy* object.\n",
    "\n",
    "In this case, the underlying asset is Apple stock (ticker: \\$APPL). We consider the spot price on January 18, 2021. The maturities of the long and short call options were January 29, 2021 and February 12, 2021, respectively.\n",
    "\n",
    "The cost of the long-term call option was 5.90 whereas the short-term call option was worth a premium of 4.60.\n",
    "\n",
    "A (log)normal distribution of stock prices, assuming risk neutrality, as in the Black-Scholes model, was used to estimate the probability of profit at the target date, which corresponds to the expiration of the short-term call option."
   ]
  },
  {
   "cell_type": "code",
   "execution_count": 3,
   "metadata": {},
   "outputs": [],
   "source": [
    "distribution=\"normal-risk-neutral\"\n",
    "stockprice=127.14\n",
    "volatility=0.427\n",
    "startdate=\"2021-01-18\"\n",
    "targetdate=\"2021-01-29\"\n",
    "interestrate=0.0009\n",
    "minstock=stockprice-round(stockprice*0.5,2)\n",
    "maxstock=stockprice+round(stockprice*0.5,2)\n",
    "strategy=[{\"type\":\"call\",\"strike\":127.00,\"premium\":4.60,\"n\":1000,\"action\":\"sell\"},\n",
    "          {\"type\":\"call\",\"strike\":127.00,\"premium\":5.90,\"n\":1000,\"action\":\"buy\",\"expiration\":\"2021-02-12\"}]\n",
    "\n",
    "st.getdata(stockprice=stockprice,startdate=startdate,targetdate=targetdate,volatility=volatility,interestrate=interestrate,\n",
    "           minstock=minstock,maxstock=maxstock,strategy=strategy,distribution=distribution)"
   ]
  },
  {
   "cell_type": "markdown",
   "metadata": {},
   "source": [
    "The payoff and **probability of profit** (PoP) of this calendar spread are calculated by calling the *run* method of the *Strategy* object."
   ]
  },
  {
   "cell_type": "code",
   "execution_count": 4,
   "metadata": {},
   "outputs": [
    {
     "name": "stdout",
     "output_type": "stream",
     "text": [
      "Time elapsed: 0.079262 s\n"
     ]
    }
   ],
   "source": [
    "start=time()\n",
    "st.run()\n",
    "end=time()\n",
    "print(\"Time elapsed: %f s\" % (end-start))"
   ]
  },
  {
   "cell_type": "markdown",
   "metadata": {},
   "source": [
    "Profit/loss data is obtained via a call to the *getprofit* method and plotted for the calendar spreat at the target date."
   ]
  },
  {
   "cell_type": "code",
   "execution_count": 5,
   "metadata": {},
   "outputs": [
    {
     "data": {
      "text/plain": [
       "[<matplotlib.lines.Line2D at 0x1def86df508>]"
      ]
     },
     "execution_count": 5,
     "metadata": {},
     "output_type": "execute_result"
    },
    {
     "data": {
      "image/png": "[encoded data removed]",
      "text/plain": [
       "<Figure size 432x288 with 1 Axes>"
      ]
     },
     "metadata": {
      "needs_background": "light"
     },
     "output_type": "display_data"
    }
   ],
   "source": [
    "s,pl_total=st.getPL()\n",
    "zeroline=zeros(s.shape[0])\n",
    "plt.xlabel(\"Stock price\")\n",
    "plt.ylabel(\"Profit/Loss\")\n",
    "plt.xlim(110,150)\n",
    "plt.ylim(-3000,4000)\n",
    "plt.plot(s,zeroline,'m-')\n",
    "plt.plot(s,pl_total,'k-')"
   ]
  },
  {
   "cell_type": "markdown",
   "metadata": {},
   "source": [
    "Below one can see some useful, additional results of the calculations made for the strategy, including its PoP."
   ]
  },
  {
   "cell_type": "code",
   "execution_count": 6,
   "metadata": {},
   "outputs": [
    {
     "name": "stdout",
     "output_type": "stream",
     "text": [
      "Maximum loss: 1300.00\n",
      "Maximum profit: 3010.00\n",
      "Profitable stock price range:\n",
      "      118.87 ---> 136.15\n",
      "Probability of Profit (PoP): 59.9%\n"
     ]
    }
   ],
   "source": [
    "maxloss,maxprofit=st.getmaxPL()\n",
    "\n",
    "print(\"Maximum loss: %.2f\" % abs(maxloss))\n",
    "print(\"Maximum profit: %.2f\" % maxprofit)\n",
    "\n",
    "profitbounds=st.getprofitbounds()\n",
    "\n",
    "print(\"Profitable stock price range:\")\n",
    "\n",
    "for i in range(len(profitbounds)):\n",
    "    print(\"      %.2f ---> %.2f\" % (profitbounds[i][0],profitbounds[i][1]))\n",
    "\n",
    "print(\"Probability of Profit (PoP): %.1f%%\" % (st.getprobabilities()[0]*100.0))"
   ]
  },
  {
   "cell_type": "code",
   "execution_count": null,
   "metadata": {},
   "outputs": [],
   "source": []
  }
 ],
 "metadata": {
  "kernelspec": {
   "display_name": "Python 3",
   "language": "python",
   "name": "python3"
  },
  "language_info": {
   "codemirror_mode": {
    "name": "ipython",
    "version": 3
   },
   "file_extension": ".py",
   "mimetype": "text/x-python",
   "name": "python",
   "nbconvert_exporter": "python",
   "pygments_lexer": "ipython3",
   "version": "3.7.6"
  }
 },
 "nbformat": 4,
 "nbformat_minor": 4
}
