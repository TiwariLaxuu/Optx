{
 "cells": [
  {
   "cell_type": "markdown",
   "metadata": {},
   "source": [
    "# Naked Calls\n",
    "\n",
    "This [strategy](https://www.investopedia.com/articles/optioninvestor/122701.asp) consists of a trader simply selling a number of call options for which s/he does not own the underlying asset.\n",
    "\n",
    "If the stock price remains below the strike price of the call options at expiration, the trader pockets the option premium, at least partially.\n",
    "\n",
    "On the other hand, if the stock price goes up, the losses are unlimited. Naked call is one of the riskiest option strategies.\n",
    "\n",
    "**Caveat: Options are very risky derivatives and, like any other type of financial vehicle, trading options requires due diligence. Transactions shown as examples of trading strategies with options in this notebook are not recommendations.**\n",
    "\n",
    "To begin with our calculations and analysis, the necessary resources, such as the *Strategy* class from the *Strategy* module of the *Optx* package, must be imported."
   ]
  },
  {
   "cell_type": "code",
   "execution_count": 1,
   "metadata": {},
   "outputs": [],
   "source": [
    "from Optx.Strategy import Strategy\n",
    "from time import time\n",
    "from numpy import zeros\n",
    "import matplotlib.pyplot as plt\n",
    "%matplotlib inline"
   ]
  },
  {
   "cell_type": "markdown",
   "metadata": {},
   "source": [
    "A *Strategy* object must then be created."
   ]
  },
  {
   "cell_type": "code",
   "execution_count": 2,
   "metadata": {},
   "outputs": [],
   "source": [
    "st=Strategy()"
   ]
  },
  {
   "cell_type": "markdown",
   "metadata": {},
   "source": [
    "The data used in the calculations are passed to the *getdata* method of the newly created *Strategy* object.\n",
    "\n",
    "In this case, the data refers to Apple stocks (ticker: \\$APPL) on November 22, 2021. The maturity of the call option was November 17, 2021.\n",
    "\n",
    "The naked call setup consisted of selling 100 175.00 strike calls for 1.15 each.\n",
    "\n",
    "A (log)normal distribution of stock prices at expiration, assuming risk neutrality, as in the Black-Scholes model, was used to estimate the probability of profit at maturity."
   ]
  },
  {
   "cell_type": "code",
   "execution_count": 3,
   "metadata": {},
   "outputs": [],
   "source": [
    "distribution=\"normal-risk-neutral\"\n",
    "stockprice=164.04\n",
    "volatility=0.272\n",
    "startdate=\"2021-11-22\"\n",
    "targetdate=\"2021-12-17\"\n",
    "interestrate=0.0002\n",
    "minstock=stockprice-round(stockprice*0.5,2)\n",
    "maxstock=stockprice+round(stockprice*0.5,2)\n",
    "strategy=[{\"type\":\"call\",\"strike\":175.00,\"premium\":1.15,\"n\":100,\"action\":\"sell\"}]\n",
    "\n",
    "st.getdata(stockprice=stockprice,startdate=startdate,targetdate=targetdate,volatility=volatility,interestrate=interestrate,\n",
    "           minstock=minstock,maxstock=maxstock,strategy=strategy,distribution=distribution)"
   ]
  },
  {
   "cell_type": "markdown",
   "metadata": {},
   "source": [
    "The payoff and **probability of profit** (PoP) of naked calls are calculated by calling the *run* method of the *Strategy* object."
   ]
  },
  {
   "cell_type": "code",
   "execution_count": 4,
   "metadata": {},
   "outputs": [
    {
     "name": "stdout",
     "output_type": "stream",
     "text": [
      "Time elapsed: 0.026332 s\n"
     ]
    }
   ],
   "source": [
    "start=time()\n",
    "st.run()\n",
    "end=time()\n",
    "print(\"Time elapsed: %f s\" % (end-start))"
   ]
  },
  {
   "cell_type": "markdown",
   "metadata": {},
   "source": [
    "Profit/loss data is obtained via a call to the *getprofit* method and plotted for the naked calls."
   ]
  },
  {
   "cell_type": "code",
   "execution_count": 5,
   "metadata": {},
   "outputs": [
    {
     "data": {
      "text/plain": [
       "[<matplotlib.lines.Line2D at 0x24d15c91248>]"
      ]
     },
     "execution_count": 5,
     "metadata": {},
     "output_type": "execute_result"
    },
    {
     "data": {
      "image/png": "[encoded data removed]",
      "text/plain": [
       "<Figure size 432x288 with 1 Axes>"
      ]
     },
     "metadata": {
      "needs_background": "light"
     },
     "output_type": "display_data"
    }
   ],
   "source": [
    "s,pl_total=st.getPL()\n",
    "leg=[]\n",
    "for i in range(len(strategy)):\n",
    "    leg.append(st.getPL(i)[1])\n",
    "    \n",
    "zeroline=zeros(s.shape[0])\n",
    "plt.xlabel(\"Stock price\")\n",
    "plt.ylabel(\"Profit/Loss\")\n",
    "plt.xlim(120,200)\n",
    "plt.ylim(-2000,2000)\n",
    "plt.plot(s,zeroline,'m-')\n",
    "plt.plot(s,pl_total,'k-')"
   ]
  },
  {
   "cell_type": "markdown",
   "metadata": {},
   "source": [
    "Below one can see some useful, additional results of the calculations made for the strategy, including its PoP."
   ]
  },
  {
   "cell_type": "code",
   "execution_count": 6,
   "metadata": {},
   "outputs": [
    {
     "name": "stdout",
     "output_type": "stream",
     "text": [
      "Initial position value: 115.00\n",
      "Maximum loss (in the stock price range): 6987.00\n",
      "Maximum profit (in the stock price range): 115.00\n",
      "Profitable stock price range:\n",
      "      0.00 ---> 176.14\n",
      "Probability of Profit (PoP): 83.9%\n"
     ]
    }
   ],
   "source": [
    "print(\"Initial position value: %.2f\" % st.getbalance())\n",
    "\n",
    "maxloss,maxprofit=st.getmaxPL()\n",
    "\n",
    "print(\"Maximum loss (in the stock price range): %.2f\" % abs(maxloss))\n",
    "print(\"Maximum profit (in the stock price range): %.2f\" % maxprofit)\n",
    "\n",
    "profitbounds=st.getprofitbounds()\n",
    "\n",
    "print(\"Profitable stock price range:\")\n",
    "\n",
    "for i in range(len(profitbounds)):\n",
    "    print(\"      %.2f ---> %.2f\" % (profitbounds[i][0],profitbounds[i][1]))\n",
    "\n",
    "print(\"Probability of Profit (PoP): %.1f%%\" % (st.getprobabilities()[0]*100.0))"
   ]
  },
  {
   "cell_type": "code",
   "execution_count": null,
   "metadata": {},
   "outputs": [],
   "source": []
  }
 ],
 "metadata": {
  "kernelspec": {
   "display_name": "Python 3",
   "language": "python",
   "name": "python3"
  },
  "language_info": {
   "codemirror_mode": {
    "name": "ipython",
    "version": 3
   },
   "file_extension": ".py",
   "mimetype": "text/x-python",
   "name": "python",
   "nbconvert_exporter": "python",
   "pygments_lexer": "ipython3",
   "version": "3.7.6"
  }
 },
 "nbformat": 4,
 "nbformat_minor": 4
}
