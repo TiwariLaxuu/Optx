{
 "cells": [
  {
   "cell_type": "markdown",
   "metadata": {},
   "source": [
    "# Call Spread with highest probability of profit (PoP)\n",
    "\n",
    "Call spreads are [vertical spreads](https://www.investopedia.com/terms/v/verticalspread.asp), i.e., two-legged options strategies where the trader buys a call and simultaneously sells another call, both with same expiration but different strikes.\n",
    "\n",
    "Vertical spreads provide a floor for the loss (which is certainly good for risk management) while also limiting the gain.\n",
    "\n",
    "In this notebook, we perform a search for the call spread with the highest probability of profit, combining pairs of strikes and considering the corresponding premiums.\n",
    "\n",
    "To begin with our calculations and analysis, the necessary resources, such as the *Strategy* class from the *Strategy* module of the *Optx* package, must be imported."
   ]
  },
  {
   "cell_type": "code",
   "execution_count": 1,
   "metadata": {},
   "outputs": [],
   "source": [
    "from Optx.Strategy import Strategy\n",
    "from time import time\n",
    "from pandas import read_csv\n",
    "from numpy import zeros\n",
    "import matplotlib.pyplot as plt\n",
    "%matplotlib inline"
   ]
  },
  {
   "cell_type": "markdown",
   "metadata": {},
   "source": [
    "The data used in the calculations have Microsoft stock (ticker: \\$MSFT) as the underlying asset. The start date is November 22, 2021, when Microsoft stock price was 342.97.\n",
    "\n",
    "A (log)normal distribution of stock prices, assuming risk neutrality, as in the Black-Scholes model, was used to estimate the probability of profit at the target date, December 17, 2021, which corresponds to the expiration of the options in which we are interested in this numerical experiment.\n",
    "\n",
    "The data (i.e., strike, bid and ask prices of call options expiring on the target date) is loaded from a CSV file into a list."
   ]
  },
  {
   "cell_type": "code",
   "execution_count": 2,
   "metadata": {},
   "outputs": [],
   "source": [
    "distribution=\"normal-risk-neutral\"\n",
    "stockprice=342.97\n",
    "volatility=0.18\n",
    "startdate=\"2021-11-22\"\n",
    "targetdate=\"2021-12-17\"\n",
    "interestrate=0.001\n",
    "minstock=0.0\n",
    "maxstock=stockprice+round(stockprice*0.5,2)"
   ]
  },
  {
   "cell_type": "code",
   "execution_count": 3,
   "metadata": {},
   "outputs": [],
   "source": [
    "df=read_csv(\"msft_22-November-2021.csv\")\n",
    "chain=[]\n",
    "\n",
    "for i in range(len(df)):\n",
    "    if not (df[\"Expiration\"][i]==targetdate and df[\"Type\"][i]==\"call\"):\n",
    "        continue\n",
    "    else:\n",
    "        chain.append([df[\"Strike\"][i],\n",
    "                      df[\"Bid\"][i],\n",
    "                      df[\"Ask\"][i]])"
   ]
  },
  {
   "cell_type": "markdown",
   "metadata": {},
   "source": [
    "Then, a Cartesian product is used to combine pairs of call options.\n",
    "\n",
    "For each generated pair, a *Strategy* object is instantiated, the PoP is calculated and if that call spread has the highest PoP, its information is saved.\n",
    "\n",
    "In the end, this procedure results in the best call spread (taking the PoP as the only metrics)."
   ]
  },
  {
   "cell_type": "code",
   "execution_count": 4,
   "metadata": {},
   "outputs": [
    {
     "name": "stdout",
     "output_type": "stream",
     "text": [
      "Time elapsed: 27.122054 s\n"
     ]
    }
   ],
   "source": [
    "start=time()\n",
    "maxpop=0.0\n",
    "\n",
    "for i in range(len(chain)-1):\n",
    "    for j in range(i+i,len(chain)):\n",
    "        for k in [[\"sell\",\"buy\"],[\"buy\",\"sell\"]]:\n",
    "            if k[0]==\"sell\":\n",
    "                premium=[chain[i][1],chain[j][2]]\n",
    "            else:\n",
    "                premium=[chain[i][2],chain[j][1]]\n",
    "                \n",
    "            st=Strategy()            \n",
    "            strategy=[{\"type\":\"call\",\"strike\":chain[i][0],\"premium\":premium[0],\"n\":100,\"action\":k[0]},\n",
    "                      {\"type\":\"call\",\"strike\":chain[j][0],\"premium\":premium[1],\"n\":100,\"action\":k[1]}]\n",
    "\n",
    "            st.getdata(stockprice=stockprice,startdate=startdate,targetdate=targetdate,volatility=volatility,\n",
    "                       interestrate=interestrate,minstock=minstock,maxstock=maxstock,strategy=strategy,\n",
    "                       distribution=distribution)\n",
    "            st.run()\n",
    "    \n",
    "            if maxpop<st.getprobabilities()[0]:\n",
    "                maxpop=st.getprobabilities()[0]\n",
    "                inipos=st.getbalance()\n",
    "                maxloss,maxprofit=st.getmaxPL()\n",
    "                profitbounds=st.getprofitbounds()\n",
    "                best_strategy=strategy\n",
    "                s,pl_total=st.getPL()\n",
    "            \n",
    "end=time()\n",
    "print(\"Time elapsed: %f s\" % (end-start))"
   ]
  },
  {
   "cell_type": "markdown",
   "metadata": {},
   "source": [
    "The call spread with the highest PoP is described below. And indeed, it has an astonishingly high probability of profit, above 99%.\n",
    "\n",
    "However, if we don't just look at the high PoP, we realize that we have to pay almost 16,000.00 for the strategy (which is also its maximum loss) to earn a maximum profit of only... 5.00."
   ]
  },
  {
   "cell_type": "code",
   "execution_count": 5,
   "metadata": {},
   "outputs": [
    {
     "name": "stdout",
     "output_type": "stream",
     "text": [
      "Leg 1: buy 100 calls with strike 145.00 for 198.05.\n",
      "Leg 2: sell 100 calls with strike 305.00 for 38.10.\n",
      "\n",
      "Maximum loss: 15995.00\n",
      "Maximum profit: 5.00\n",
      "Profitable stock price range:\n",
      "      304.96 ---> inf\n",
      "Probability of Profit (PoP): 99.1%\n"
     ]
    }
   ],
   "source": [
    "print(\"Leg 1: %s %d calls with strike %.2f for %.2f.\" % (best_strategy[0][\"action\"],\n",
    "                                                         best_strategy[0][\"n\"],\n",
    "                                                         best_strategy[0][\"strike\"],\n",
    "                                                         best_strategy[0][\"premium\"]))\n",
    "print(\"Leg 2: %s %d calls with strike %.2f for %.2f.\\n\" % (best_strategy[1][\"action\"],\n",
    "                                                           best_strategy[1][\"n\"],\n",
    "                                                           best_strategy[1][\"strike\"],\n",
    "                                                           best_strategy[1][\"premium\"]))   \n",
    "print(\"Maximum loss: %.2f\" % abs(maxloss))\n",
    "print(\"Maximum profit: %.2f\" % maxprofit)\n",
    "print(\"Profitable stock price range:\")\n",
    "\n",
    "for i in range(len(profitbounds)):\n",
    "    print(\"      %.2f ---> %.2f\" % (profitbounds[i][0],profitbounds[i][1]))\n",
    "\n",
    "print(\"Probability of Profit (PoP): %.1f%%\" % (maxpop*100.0))"
   ]
  },
  {
   "cell_type": "markdown",
   "metadata": {},
   "source": [
    "This less than encouraging situation is well illustrated in the payoff of the call spread with the highest probability of profit.\n",
    "\n",
    "This experiment suggests that maximizing the probability of profit alone might not be enough to obtain a winning and advantageous call spread for the trader."
   ]
  },
  {
   "cell_type": "code",
   "execution_count": 6,
   "metadata": {},
   "outputs": [
    {
     "data": {
      "text/plain": [
       "[<matplotlib.lines.Line2D at 0x21d806ba208>]"
      ]
     },
     "execution_count": 6,
     "metadata": {},
     "output_type": "execute_result"
    },
    {
     "data": {
      "image/png": "[encoded data removed]",
      "text/plain": [
       "<Figure size 432x288 with 1 Axes>"
      ]
     },
     "metadata": {
      "needs_background": "light"
     },
     "output_type": "display_data"
    }
   ],
   "source": [
    "zeroline=zeros(s.shape[0])\n",
    "plt.xlabel(\"Stock price\")\n",
    "plt.ylabel(\"Profit/Loss\")\n",
    "plt.xlim(0,400)\n",
    "plt.plot(s,zeroline,'m-')\n",
    "plt.plot(s,pl_total,'k-')"
   ]
  },
  {
   "cell_type": "code",
   "execution_count": null,
   "metadata": {},
   "outputs": [],
   "source": []
  }
 ],
 "metadata": {
  "kernelspec": {
   "display_name": "Python 3",
   "language": "python",
   "name": "python3"
  },
  "language_info": {
   "codemirror_mode": {
    "name": "ipython",
    "version": 3
   },
   "file_extension": ".py",
   "mimetype": "text/x-python",
   "name": "python",
   "nbconvert_exporter": "python",
   "pygments_lexer": "ipython3",
   "version": "3.7.6"
  }
 },
 "nbformat": 4,
 "nbformat_minor": 4
}
